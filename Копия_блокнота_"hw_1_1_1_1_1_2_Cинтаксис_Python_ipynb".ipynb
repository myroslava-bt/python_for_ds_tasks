{
  "nbformat": 4,
  "nbformat_minor": 0,
  "metadata": {
    "colab": {
      "provenance": [],
      "include_colab_link": true
    },
    "kernelspec": {
      "name": "python3",
      "display_name": "Python 3"
    },
    "language_info": {
      "name": "python"
    }
  },
  "cells": [
    {
      "cell_type": "markdown",
      "metadata": {
        "id": "view-in-github",
        "colab_type": "text"
      },
      "source": [
        "<a href=\"https://colab.research.google.com/github/myroslava-bt/python_for_ds_tasks/blob/main/%D0%9A%D0%BE%D0%BF%D0%B8%D1%8F_%D0%B1%D0%BB%D0%BE%D0%BA%D0%BD%D0%BE%D1%82%D0%B0_%22hw_1_1_1_1_1_2_C%D0%B8%D0%BD%D1%82%D0%B0%D0%BA%D1%81%D0%B8%D1%81_Python_ipynb%22.ipynb\" target=\"_parent\"><img src=\"https://colab.research.google.com/assets/colab-badge.svg\" alt=\"Open In Colab\"/></a>"
      ]
    },
    {
      "cell_type": "markdown",
      "source": [
        "#Домашнє завдання до теми \"Синтаксис Python\"\n",
        "\n",
        "В ДЗ першого модулю важливою умовою виконання завдань є те, що ми не імпортуємо жодних бібліотек, а робимо все на чистому Python, використовуючи лише базовий функціонал. Це необхідно аби відпрацювати роботу з базовими типами даних. А використовувати бібліотеки ми ще навчимось далі :)"
      ],
      "metadata": {
        "id": "tvPKWXfD7yRv"
      }
    },
    {
      "cell_type": "markdown",
      "source": [
        "1. Створіть змінну, яка буде зберігати кількість яблук. І надайте їй значення 5. Виведіть значення змінної на екран."
      ],
      "metadata": {
        "id": "xE1KHmUbQVbC"
      }
    },
    {
      "cell_type": "code",
      "source": [
        "apple = 5\n",
        "print(apple)"
      ],
      "metadata": {
        "id": "iz5QpN-vQUtN",
        "colab": {
          "base_uri": "https://localhost:8080/"
        },
        "outputId": "67f0ddb3-cbef-4107-c1bf-834c3761d710"
      },
      "execution_count": null,
      "outputs": [
        {
          "output_type": "stream",
          "name": "stdout",
          "text": [
            "5\n"
          ]
        }
      ]
    },
    {
      "cell_type": "markdown",
      "source": [
        "2. Виведіть тип змінної, створеної в завданні (1)."
      ],
      "metadata": {
        "id": "wx6RsBHAQd9q"
      }
    },
    {
      "cell_type": "code",
      "source": [
        "print(type(apple))"
      ],
      "metadata": {
        "id": "f48l2PhiQi86",
        "colab": {
          "base_uri": "https://localhost:8080/"
        },
        "outputId": "33ae830c-85a5-4363-9fa5-b6d482ca329a"
      },
      "execution_count": null,
      "outputs": [
        {
          "output_type": "stream",
          "name": "stdout",
          "text": [
            "<class 'int'>\n"
          ]
        }
      ]
    },
    {
      "cell_type": "markdown",
      "source": [
        "3. Додайте до значення змінної, створеної в завданні (1) число `12` і виведіть результат на екран з допомогою команди `print()`."
      ],
      "metadata": {
        "id": "UEc59pPcQnva"
      }
    },
    {
      "cell_type": "code",
      "source": [
        "apple = apple + 12\n",
        "print(apple)"
      ],
      "metadata": {
        "id": "gu-vkERpQoCY",
        "colab": {
          "base_uri": "https://localhost:8080/"
        },
        "outputId": "15b359b1-a4e4-4b6b-ef05-f33367655a13"
      },
      "execution_count": null,
      "outputs": [
        {
          "output_type": "stream",
          "name": "stdout",
          "text": [
            "17\n"
          ]
        }
      ]
    },
    {
      "cell_type": "markdown",
      "source": [
        "4. Запустіть код нижче аби створити дві змінні."
      ],
      "metadata": {
        "id": "yOztaNuqqcMy"
      }
    },
    {
      "cell_type": "code",
      "source": [
        "a = 48\n",
        "b = 3"
      ],
      "metadata": {
        "id": "kbXeQSgcqncV"
      },
      "execution_count": null,
      "outputs": []
    },
    {
      "cell_type": "code",
      "source": [
        "print (a, type(a), b, type(b), c, type(c))"
      ],
      "metadata": {
        "colab": {
          "base_uri": "https://localhost:8080/"
        },
        "id": "_KRIuzZciW2-",
        "outputId": "21cddd05-29fa-4d30-9f10-77e768971540"
      },
      "execution_count": null,
      "outputs": [
        {
          "output_type": "stream",
          "name": "stdout",
          "text": [
            "48 <class 'int'> 3 <class 'int'> 16.0 <class 'float'>\n"
          ]
        }
      ]
    },
    {
      "cell_type": "code",
      "source": [
        "c = a/b"
      ],
      "metadata": {
        "id": "q7C_CDA9iM0f"
      },
      "execution_count": null,
      "outputs": []
    },
    {
      "cell_type": "markdown",
      "source": [
        "Створіть нову клітинку нижче цієї з допомогою натискання англійської літери `B`, коли ви НЕ в режимі редагування клітинки. В створеній клітинці створіть змінну `c`, яка буде містити результат ділення `a` на `b`."
      ],
      "metadata": {
        "id": "9ojIRMw3qvw8"
      }
    },
    {
      "cell_type": "markdown",
      "source": [
        "Створіть ще одну нову клітинку, тільки тепер вище цієї. Для цього натисніть  англійську літеру `A`, коли ви НЕ в режимі редагування клітинки. Виведіть в новоствореній клітинці значення і тип кожної зі змінних `a`, `b`, `c`. Проаналізуйте результат.\n"
      ],
      "metadata": {
        "id": "XcmIZ24wq4px"
      }
    },
    {
      "cell_type": "markdown",
      "source": [
        "У Python, коли ви ділите одне ціле число на інше, результат буде автоматично приведений до типу float, якщо він не є цілим числом. Це робиться для того, щоб забезпечити більш точний результат ділення, особливо коли результат міг би бути десятковим числом."
      ],
      "metadata": {
        "id": "v9rj7B4-sGaG"
      }
    },
    {
      "cell_type": "markdown",
      "source": [
        "5. Перегляньте наступний код, подумайте, що він виведе в результаті, та потім, запустіть його."
      ],
      "metadata": {
        "id": "irjcdM8puaEx"
      }
    },
    {
      "cell_type": "code",
      "source": [
        "a = 10\n",
        "a = 12\n",
        "a = 15\n",
        "\n",
        "b = 4\n",
        "b = 8\n",
        "b = 14\n",
        "\n",
        "c = 3\n",
        "c = 6\n",
        "c = 9\n",
        "\n",
        "\n",
        "a + b + c"
      ],
      "metadata": {
        "id": "KmhCY0ttt8rW",
        "colab": {
          "base_uri": "https://localhost:8080/"
        },
        "outputId": "03ed7db1-221a-4290-8e6c-70bb81471908"
      },
      "execution_count": null,
      "outputs": [
        {
          "output_type": "execute_result",
          "data": {
            "text/plain": [
              "38"
            ]
          },
          "metadata": {},
          "execution_count": 8
        }
      ]
    },
    {
      "cell_type": "markdown",
      "source": [
        "В клітинці нижче закоментуйте деякі рядки так, аби в результаті виконання останнього рядка коду (`a + b + c`) вивелось `17`.\n",
        "Увага! Рядки треба саме закоментувати, а не видалити.\n",
        "Можна зручно коментувати рядки з допомогою комбінації клавіш `Ctrl + /` (`Command + /` для Mac)"
      ],
      "metadata": {
        "id": "JrUTyGyQufwq"
      }
    },
    {
      "cell_type": "code",
      "source": [
        "a = 10\n",
        "# a = 12\n",
        "# a = 15\n",
        "\n",
        "b = 4\n",
        "# b = 8\n",
        "# b = 14\n",
        "\n",
        "c = 3\n",
        "# c = 6\n",
        "# c = 9\n",
        "\n",
        "\n",
        "a + b + c"
      ],
      "metadata": {
        "id": "R4VXgSQKwVoc",
        "colab": {
          "base_uri": "https://localhost:8080/"
        },
        "outputId": "d438af77-68e8-4fc2-e7fe-065778c0bbb3"
      },
      "execution_count": null,
      "outputs": [
        {
          "output_type": "execute_result",
          "data": {
            "text/plain": [
              "17"
            ]
          },
          "metadata": {},
          "execution_count": 9
        }
      ]
    }
  ]
}